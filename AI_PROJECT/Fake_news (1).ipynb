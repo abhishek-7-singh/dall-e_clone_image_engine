{
  "cells": [
    {
      "cell_type": "code",
      "execution_count": 1,
      "metadata": {
        "colab": {
          "base_uri": "https://localhost:8080/"
        },
        "id": "7FCQZvFSIf6X",
        "outputId": "d1ceb08f-844e-4e57-9821-ed4b84c01d08"
      },
      "outputs": [],
      "source": [
        "# from google.colab import drive\n",
        "# drive.mount('/content/drive')"
      ]
    },
    {
      "cell_type": "code",
      "execution_count": 2,
      "metadata": {
        "id": "BvATgZTvleMM"
      },
      "outputs": [
        {
          "name": "stdout",
          "output_type": "stream",
          "text": [
            "WARNING:tensorflow:From c:\\Users\\abhi1\\AppData\\Local\\Programs\\Python\\Python39\\lib\\site-packages\\keras\\src\\losses.py:2976: The name tf.losses.sparse_softmax_cross_entropy is deprecated. Please use tf.compat.v1.losses.sparse_softmax_cross_entropy instead.\n",
            "\n"
          ]
        }
      ],
      "source": [
        "import numpy as np\n",
        "import pandas as pd\n",
        "import matplotlib.pyplot as plt\n",
        "import seaborn as sns\n",
        "import tensorflow as tf\n",
        "import warnings\n",
        "warnings.filterwarnings(\"ignore\")"
      ]
    },
    {
      "cell_type": "code",
      "execution_count": 3,
      "metadata": {
        "id": "qcWKKXSSg-Co"
      },
      "outputs": [],
      "source": [
        "# true_df=pd.read_csv(\"/content/drive/MyDrive/fake_news_dataset/true.csv\")\n",
        "true_df=pd.read_csv(\"cleaned - cleaned.csv\")\n",
        "fake_df=pd.read_csv(\"fake.csv\")"
      ]
    },
    {
      "cell_type": "code",
      "execution_count": 4,
      "metadata": {
        "colab": {
          "base_uri": "https://localhost:8080/",
          "height": 224
        },
        "id": "VCON-Zjkg_ol",
        "outputId": "dfbf74e9-c162-459b-eb87-72485da82261"
      },
      "outputs": [
        {
          "name": "stdout",
          "output_type": "stream",
          "text": [
            "(46827, 5)\n"
          ]
        },
        {
          "data": {
            "text/html": [
              "<div>\n",
              "<style scoped>\n",
              "    .dataframe tbody tr th:only-of-type {\n",
              "        vertical-align: middle;\n",
              "    }\n",
              "\n",
              "    .dataframe tbody tr th {\n",
              "        vertical-align: top;\n",
              "    }\n",
              "\n",
              "    .dataframe thead th {\n",
              "        text-align: right;\n",
              "    }\n",
              "</style>\n",
              "<table border=\"1\" class=\"dataframe\">\n",
              "  <thead>\n",
              "    <tr style=\"text-align: right;\">\n",
              "      <th></th>\n",
              "      <th>title</th>\n",
              "      <th>text</th>\n",
              "      <th>Out</th>\n",
              "      <th>subject</th>\n",
              "      <th>date</th>\n",
              "    </tr>\n",
              "  </thead>\n",
              "  <tbody>\n",
              "    <tr>\n",
              "      <th>1499</th>\n",
              "      <td>Trump Ignores Historically Low Rating, Brags ...</td>\n",
              "      <td>The fact that most of the country despises Don...</td>\n",
              "      <td>0</td>\n",
              "      <td>News</td>\n",
              "      <td>May 12, 2017</td>\n",
              "    </tr>\n",
              "    <tr>\n",
              "      <th>8353</th>\n",
              "      <td>Creepy: Christie Is The Latest Republican To ...</td>\n",
              "      <td>The Republican presidential candidates have be...</td>\n",
              "      <td>0</td>\n",
              "      <td>News</td>\n",
              "      <td>February 3, 2016</td>\n",
              "    </tr>\n",
              "    <tr>\n",
              "      <th>1572</th>\n",
              "      <td>Multiple Sclerosis Patient Montel Williams Ri...</td>\n",
              "      <td>Montel Williams, who has been fighting Multipl...</td>\n",
              "      <td>0</td>\n",
              "      <td>News</td>\n",
              "      <td>May 6, 2017</td>\n",
              "    </tr>\n",
              "    <tr>\n",
              "      <th>1893</th>\n",
              "      <td>Nani 32: Actor announces next project after Sa...</td>\n",
              "      <td>The first details of Nani's next project Nani ...</td>\n",
              "      <td>1</td>\n",
              "      <td>NaN</td>\n",
              "      <td>NaN</td>\n",
              "    </tr>\n",
              "    <tr>\n",
              "      <th>2414</th>\n",
              "      <td>Angry Constituents Shame Republican By Turnin...</td>\n",
              "      <td>Republicans should be ashamed of themselves an...</td>\n",
              "      <td>0</td>\n",
              "      <td>News</td>\n",
              "      <td>February 23, 2017</td>\n",
              "    </tr>\n",
              "  </tbody>\n",
              "</table>\n",
              "</div>"
            ],
            "text/plain": [
              "                                                  title  \\\n",
              "1499   Trump Ignores Historically Low Rating, Brags ...   \n",
              "8353   Creepy: Christie Is The Latest Republican To ...   \n",
              "1572   Multiple Sclerosis Patient Montel Williams Ri...   \n",
              "1893  Nani 32: Actor announces next project after Sa...   \n",
              "2414   Angry Constituents Shame Republican By Turnin...   \n",
              "\n",
              "                                                   text  Out subject  \\\n",
              "1499  The fact that most of the country despises Don...    0    News   \n",
              "8353  The Republican presidential candidates have be...    0    News   \n",
              "1572  Montel Williams, who has been fighting Multipl...    0    News   \n",
              "1893  The first details of Nani's next project Nani ...    1     NaN   \n",
              "2414  Republicans should be ashamed of themselves an...    0    News   \n",
              "\n",
              "                   date  \n",
              "1499       May 12, 2017  \n",
              "8353   February 3, 2016  \n",
              "1572        May 6, 2017  \n",
              "1893                NaN  \n",
              "2414  February 23, 2017  "
            ]
          },
          "execution_count": 4,
          "metadata": {},
          "output_type": "execute_result"
        }
      ],
      "source": [
        "true_df[\"Out\"]=1 # 1 for True\n",
        "fake_df['Out']=0 # 0 for False\n",
        "df=pd.concat([true_df,fake_df]) # Join both datasets\n",
        "df=df.sample(frac = 1) #shuffle\n",
        "print(df.shape)\n",
        "df.head()"
      ]
    },
    {
      "cell_type": "code",
      "execution_count": 5,
      "metadata": {
        "id": "r9aHvRYtIYJu"
      },
      "outputs": [],
      "source": [
        "df.drop(columns=['subject','date'],inplace=True)"
      ]
    },
    {
      "cell_type": "code",
      "execution_count": 6,
      "metadata": {
        "colab": {
          "base_uri": "https://localhost:8080/",
          "height": 443
        },
        "id": "QEeyDe5JhB37",
        "outputId": "5fad2ff2-5128-4d60-af3e-4e4fb3be0883"
      },
      "outputs": [
        {
          "data": {
            "text/plain": [
              "<Axes: xlabel='Out'>"
            ]
          },
          "execution_count": 6,
          "metadata": {},
          "output_type": "execute_result"
        },
        {
          "data": {
            "image/png": "[encoded data removed]",
            "text/plain": [
              "<Figure size 640x480 with 1 Axes>"
            ]
          },
          "metadata": {},
          "output_type": "display_data"
        }
      ],
      "source": [
        "df.Out.value_counts().plot(kind=\"bar\")"
      ]
    },
    {
      "cell_type": "code",
      "execution_count": 7,
      "metadata": {
        "colab": {
          "base_uri": "https://localhost:8080/",
          "height": 293
        },
        "id": "4aytN7dPIrmM",
        "outputId": "930aff34-d3f6-431f-f097-92b7ff70bd69"
      },
      "outputs": [
        {
          "data": {
            "text/html": [
              "<div>\n",
              "<style scoped>\n",
              "    .dataframe tbody tr th:only-of-type {\n",
              "        vertical-align: middle;\n",
              "    }\n",
              "\n",
              "    .dataframe tbody tr th {\n",
              "        vertical-align: top;\n",
              "    }\n",
              "\n",
              "    .dataframe thead th {\n",
              "        text-align: right;\n",
              "    }\n",
              "</style>\n",
              "<table border=\"1\" class=\"dataframe\">\n",
              "  <thead>\n",
              "    <tr style=\"text-align: right;\">\n",
              "      <th></th>\n",
              "      <th>title</th>\n",
              "      <th>text</th>\n",
              "      <th>Out</th>\n",
              "    </tr>\n",
              "  </thead>\n",
              "  <tbody>\n",
              "    <tr>\n",
              "      <th>1499</th>\n",
              "      <td>Trump Ignores Historically Low Rating, Brags ...</td>\n",
              "      <td>The fact that most of the country despises Don...</td>\n",
              "      <td>0</td>\n",
              "    </tr>\n",
              "    <tr>\n",
              "      <th>8353</th>\n",
              "      <td>Creepy: Christie Is The Latest Republican To ...</td>\n",
              "      <td>The Republican presidential candidates have be...</td>\n",
              "      <td>0</td>\n",
              "    </tr>\n",
              "    <tr>\n",
              "      <th>1572</th>\n",
              "      <td>Multiple Sclerosis Patient Montel Williams Ri...</td>\n",
              "      <td>Montel Williams, who has been fighting Multipl...</td>\n",
              "      <td>0</td>\n",
              "    </tr>\n",
              "    <tr>\n",
              "      <th>1893</th>\n",
              "      <td>Nani 32: Actor announces next project after Sa...</td>\n",
              "      <td>The first details of Nani's next project Nani ...</td>\n",
              "      <td>1</td>\n",
              "    </tr>\n",
              "    <tr>\n",
              "      <th>2414</th>\n",
              "      <td>Angry Constituents Shame Republican By Turnin...</td>\n",
              "      <td>Republicans should be ashamed of themselves an...</td>\n",
              "      <td>0</td>\n",
              "    </tr>\n",
              "  </tbody>\n",
              "</table>\n",
              "</div>"
            ],
            "text/plain": [
              "                                                  title  \\\n",
              "1499   Trump Ignores Historically Low Rating, Brags ...   \n",
              "8353   Creepy: Christie Is The Latest Republican To ...   \n",
              "1572   Multiple Sclerosis Patient Montel Williams Ri...   \n",
              "1893  Nani 32: Actor announces next project after Sa...   \n",
              "2414   Angry Constituents Shame Republican By Turnin...   \n",
              "\n",
              "                                                   text  Out  \n",
              "1499  The fact that most of the country despises Don...    0  \n",
              "8353  The Republican presidential candidates have be...    0  \n",
              "1572  Montel Williams, who has been fighting Multipl...    0  \n",
              "1893  The first details of Nani's next project Nani ...    1  \n",
              "2414  Republicans should be ashamed of themselves an...    0  "
            ]
          },
          "execution_count": 7,
          "metadata": {},
          "output_type": "execute_result"
        }
      ],
      "source": [
        "df.head()"
      ]
    },
    {
      "cell_type": "code",
      "execution_count": 8,
      "metadata": {
        "colab": {
          "base_uri": "https://localhost:8080/"
        },
        "id": "lByGryWvhFDr",
        "outputId": "e8270f17-f263-4c0b-8733-6897c84410be"
      },
      "outputs": [
        {
          "data": {
            "text/plain": [
              "(46797, 3)"
            ]
          },
          "execution_count": 8,
          "metadata": {},
          "output_type": "execute_result"
        }
      ],
      "source": [
        "df.dropna(inplace=True,how='any')\n",
        "df.reset_index(inplace=True,drop=True)\n",
        "df.shape"
      ]
    },
    {
      "cell_type": "code",
      "execution_count": 9,
      "metadata": {
        "colab": {
          "base_uri": "https://localhost:8080/"
        },
        "id": "hA-oQ-KHhmMx",
        "outputId": "37d35273-fbad-435f-b71a-b68491158f61"
      },
      "outputs": [
        {
          "name": "stderr",
          "output_type": "stream",
          "text": [
            "[nltk_data] Downloading package stopwords to\n",
            "[nltk_data]     C:\\Users\\abhi1\\AppData\\Roaming\\nltk_data...\n",
            "[nltk_data]   Package stopwords is already up-to-date!\n"
          ]
        }
      ],
      "source": [
        "import re  # Regular expressions\n",
        "import nltk  # Natural language processing]\n",
        "from nltk.corpus import stopwords  # Stopwords\n",
        "nltk.download('stopwords')  # Download stopwords corpus\n",
        "# Get the stopwords for the language.\n",
        "stpwrds = stopwords.words('english')"
      ]
    },
    {
      "cell_type": "code",
      "execution_count": 10,
      "metadata": {
        "id": "GqwFG0xpn2Xl"
      },
      "outputs": [],
      "source": [
        "# General transformation in the text\n",
        "def preprocessing(mc):\n",
        "\n",
        "    mc = mc.replace(\"\\n\",\" \").replace(\"\\t\",\" \")\n",
        "    mc = mc.lower()\n",
        "    mc = re.sub('@[^\\s]+', '', mc)\n",
        "    mc = re.sub(r'\\B#\\S+', '', mc)\n",
        "    mc = re.sub(r\"http\\S+\", \"\", mc)\n",
        "    mc = ' '.join(re.findall(r'\\w+', mc))\n",
        "    mc = re.sub(r'\\s+[b-zA-Z]\\s+', ' ', mc)\n",
        "    mc = re.sub(r'\\s+', ' ', mc, flags=re.I)\n",
        "\n",
        "\n",
        "    return mc"
      ]
    },
    {
      "cell_type": "code",
      "execution_count": 11,
      "metadata": {
        "colab": {
          "base_uri": "https://localhost:8080/"
        },
        "id": "E7NZYNP1nxvc",
        "outputId": "3ad5120f-8b44-4b63-d792-cc7b6db7fe40"
      },
      "outputs": [
        {
          "data": {
            "text/plain": [
              "(46797, 8000)"
            ]
          },
          "execution_count": 11,
          "metadata": {},
          "output_type": "execute_result"
        }
      ],
      "source": [
        "from sklearn.feature_extraction.text import TfidfVectorizer\n",
        "\n",
        "# Create CountVectorizer object\n",
        "tdf_vectorizer = TfidfVectorizer(ngram_range=(1,3),stop_words='english',preprocessor=preprocessing,max_features=8000)\n",
        "\n",
        "# Generate matrix of word vectors\n",
        "tdf_vec = tdf_vectorizer.fit_transform(df['text'])\n",
        "\n",
        "tdf_vec.shape"
      ]
    },
    {
      "cell_type": "code",
      "execution_count": 12,
      "metadata": {
        "id": "-_zGDFd-q7_-"
      },
      "outputs": [],
      "source": [
        "y=df['Out']\n",
        "df.drop(columns=['Out','text','title'],inplace=True)"
      ]
    },
    {
      "cell_type": "code",
      "execution_count": 13,
      "metadata": {
        "id": "lYpovnJgrL9y"
      },
      "outputs": [],
      "source": [
        "# Creating final Data Frame\n",
        "merged = pd.concat([df,pd.DataFrame(tdf_vec.toarray(), columns=tdf_vectorizer.get_feature_names_out())],axis=1)\n",
        "merged['Out']=y\n",
        "x=merged.drop('Out',axis=1)"
      ]
    },
    {
      "cell_type": "code",
      "execution_count": 14,
      "metadata": {
        "id": "GeyDrRIsLrJC"
      },
      "outputs": [],
      "source": [
        "del df,tdf_vec,true_df,fake_df,merged,stopwords,stpwrds,tdf_vectorizer #for freeing up RAM due to size of dataset"
      ]
    },
    {
      "cell_type": "code",
      "execution_count": 15,
      "metadata": {
        "colab": {
          "base_uri": "https://localhost:8080/"
        },
        "id": "2a20JRFthNgT",
        "outputId": "53bbd7c3-3f05-410d-979b-76635ba678bc"
      },
      "outputs": [
        {
          "data": {
            "text/plain": [
              "((37437, 8000), (9360, 8000), (37437,), (9360,))"
            ]
          },
          "execution_count": 15,
          "metadata": {},
          "output_type": "execute_result"
        }
      ],
      "source": [
        "from sklearn.model_selection import train_test_split\n",
        "x_train, x_test,y_train,y_test = train_test_split(x,y, test_size=0.2, random_state=42)\n",
        "x_train.shape, x_test.shape,y_train.shape,y_test.shape"
      ]
    },
    {
      "cell_type": "code",
      "execution_count": 16,
      "metadata": {
        "id": "nBBELNu9xkHx"
      },
      "outputs": [],
      "source": [
        "del x,y #for freeing up RAM due to size of dataset"
      ]
    },
    {
      "cell_type": "code",
      "execution_count": 17,
      "metadata": {
        "colab": {
          "base_uri": "https://localhost:8080/"
        },
        "id": "-uxHjjWCx9PZ",
        "outputId": "d9167617-a816-4ada-9727-075b85e4b0f3"
      },
      "outputs": [
        {
          "name": "stdout",
          "output_type": "stream",
          "text": [
            "[LightGBM] [Warning] Found whitespace in feature_names, replace with underlines\n",
            "[LightGBM] [Info] Number of positive: 18600, number of negative: 18837\n",
            "[LightGBM] [Info] Auto-choosing col-wise multi-threading, the overhead of testing was 0.551626 seconds.\n",
            "You can set `force_col_wise=true` to remove the overhead.\n",
            "[LightGBM] [Info] Total Bins 1177874\n",
            "[LightGBM] [Info] Number of data points in the train set: 37437, number of used features: 7833\n",
            "[LightGBM] [Info] [binary:BoostFromScore]: pavg=0.496835 -> initscore=-0.012661\n",
            "[LightGBM] [Info] Start training from score -0.012661\n",
            "Accuracy score of LGR model is  0.9989316239316239\n",
            "Log Loss of LGR model is  0.0037131542302183016\n"
          ]
        }
      ],
      "source": [
        "from sklearn.metrics import accuracy_score,log_loss\n",
        "from lightgbm import LGBMClassifier\n",
        "\n",
        "lgr = LGBMClassifier()\n",
        "\n",
        "lgr.fit(x_train,y_train)\n",
        "\n",
        "y_pred = lgr.predict(x_test)\n",
        "y_pred_prob = lgr.predict_proba(x_test)\n",
        "\n",
        "score =accuracy_score(y_test,y_pred)\n",
        "loss = log_loss(y_test,y_pred_prob)\n",
        "\n",
        "print(\"Accuracy score of LGR model is \",score)\n",
        "print(\"Log Loss of LGR model is \",loss)"
      ]
    },
    {
      "cell_type": "code",
      "execution_count": 18,
      "metadata": {
        "colab": {
          "base_uri": "https://localhost:8080/"
        },
        "id": "-hDhpzCYzTWg",
        "outputId": "baeacd72-097a-452a-d78e-7fcf204a1fd1"
      },
      "outputs": [
        {
          "name": "stdout",
          "output_type": "stream",
          "text": [
            "Accuracy score of LGR model is  0.9988247863247863\n",
            "Log Loss of LGR model is  0.0037131542302183016\n"
          ]
        }
      ],
      "source": [
        "from xgboost import XGBClassifier\n",
        "from sklearn.metrics import classification_report\n",
        "lgr = XGBClassifier()\n",
        "\n",
        "lgr.fit(x_train,y_train)\n",
        "\n",
        "y_pred = lgr.predict(x_test)\n",
        "\n",
        "score =accuracy_score(y_test,y_pred)\n",
        "loss = log_loss(y_test,y_pred_prob)\n",
        "\n",
        "print(\"Accuracy score of LGR model is \",score)\n",
        "print(\"Log Loss of LGR model is \",loss)"
      ]
    },
    {
      "cell_type": "code",
      "execution_count": 19,
      "metadata": {
        "colab": {
          "base_uri": "https://localhost:8080/"
        },
        "id": "m0rZ3-0hNs14",
        "outputId": "8f6a3546-75c1-4e88-9d76-5872c1678bcf"
      },
      "outputs": [
        {
          "name": "stdout",
          "output_type": "stream",
          "text": [
            "Accuracy score of LGR model is  0.9967948717948718\n",
            "Log Loss of LGR model is  0.0037131542302183016\n"
          ]
        }
      ],
      "source": [
        "from sklearn.linear_model import LogisticRegression\n",
        "lr = LogisticRegression(solver='newton-cg')\n",
        "\n",
        "lr.fit(x_train,y_train)\n",
        "\n",
        "y_pred = lr.predict(x_test)\n",
        "\n",
        "score =accuracy_score(y_test,y_pred)\n",
        "loss = log_loss(y_test,y_pred_prob)\n",
        "\n",
        "print(\"Accuracy score of LGR model is \",score)\n",
        "print(\"Log Loss of LGR model is \",loss)"
      ]
    },
    {
      "cell_type": "code",
      "execution_count": 20,
      "metadata": {
        "colab": {
          "base_uri": "https://localhost:8080/"
        },
        "id": "_z2QSsf1OlSG",
        "outputId": "881b6375-847f-40dd-8329-4bc28cba0778"
      },
      "outputs": [
        {
          "name": "stdout",
          "output_type": "stream",
          "text": [
            "Accuracy score of LGR model is  0.9988247863247863\n",
            "Log Loss of LGR model is  0.0037131542302183016\n"
          ]
        }
      ],
      "source": [
        "from sklearn.linear_model import PassiveAggressiveClassifier\n",
        "lr = PassiveAggressiveClassifier()\n",
        "\n",
        "lr.fit(x_train,y_train)\n",
        "\n",
        "y_pred = lr.predict(x_test)\n",
        "\n",
        "score =accuracy_score(y_test,y_pred)\n",
        "loss = log_loss(y_test,y_pred_prob)\n",
        "\n",
        "print(\"Accuracy score of LGR model is \",score)\n",
        "print(\"Log Loss of LGR model is \",loss)"
      ]
    },
    {
      "cell_type": "code",
      "execution_count": 21,
      "metadata": {
        "colab": {
          "base_uri": "https://localhost:8080/"
        },
        "id": "A0JCSvwAPugM",
        "outputId": "eba6598a-9e55-498f-a508-2aecbda93b0c"
      },
      "outputs": [
        {
          "name": "stdout",
          "output_type": "stream",
          "text": [
            "Accuracy score of LGR model is  0.9972222222222222\n",
            "Log Loss of LGR model is  0.0037131542302183016\n"
          ]
        }
      ],
      "source": [
        "from sklearn.naive_bayes import GaussianNB\n",
        "lr = GaussianNB()\n",
        "\n",
        "lr.fit(x_train,y_train)\n",
        "\n",
        "y_pred = lr.predict(x_test)\n",
        "\n",
        "score =accuracy_score(y_test,y_pred)\n",
        "loss = log_loss(y_test,y_pred_prob)\n",
        "\n",
        "print(\"Accuracy score of LGR model is \",score)\n",
        "print(\"Log Loss of LGR model is \",loss)"
      ]
    },
    {
      "cell_type": "code",
      "execution_count": 22,
      "metadata": {
        "colab": {
          "base_uri": "https://localhost:8080/"
        },
        "id": "FyCqyYE6DqqR",
        "outputId": "126ea7ab-9b61-4f99-b44b-0c9c2baf81e9"
      },
      "outputs": [
        {
          "name": "stdout",
          "output_type": "stream",
          "text": [
            "Accuracy score of LGR model is  0.9976495726495727\n",
            "Log Loss of LGR model is  0.0037131542302183016\n"
          ]
        }
      ],
      "source": [
        "from sklearn.tree import DecisionTreeClassifier\n",
        "lr = DecisionTreeClassifier()\n",
        "\n",
        "lr.fit(x_train,y_train)\n",
        "\n",
        "y_pred = lr.predict(x_test)\n",
        "\n",
        "score =accuracy_score(y_test,y_pred)\n",
        "loss = log_loss(y_test,y_pred_prob)\n",
        "\n",
        "print(\"Accuracy score of LGR model is \",score)\n",
        "print(\"Log Loss of LGR model is \",loss)"
      ]
    }
  ],
  "metadata": {
    "colab": {
      "provenance": []
    },
    "kernelspec": {
      "display_name": "Python 3",
      "name": "python3"
    },
    "language_info": {
      "codemirror_mode": {
        "name": "ipython",
        "version": 3
      },
      "file_extension": ".py",
      "mimetype": "text/x-python",
      "name": "python",
      "nbconvert_exporter": "python",
      "pygments_lexer": "ipython3",
      "version": "3.9.9"
    }
  },
  "nbformat": 4,
  "nbformat_minor": 0
}
